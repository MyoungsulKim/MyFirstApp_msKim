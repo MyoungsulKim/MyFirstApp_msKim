{
  "cells": [
    {
      "cell_type": "markdown",
      "metadata": {
        "id": "view-in-github",
        "colab_type": "text"
      },
      "source": [
        "<a href=\"https://colab.research.google.com/github/MyoungsulKim/MyFirstApp_msKim/blob/master/ProDS_%EC%8B%A4%EA%B8%B0_ipynb%EC%9D%98_%EC%82%AC%EB%B3%B8%EC%9D%98_%EC%82%AC%EB%B3%B8.ipynb\" target=\"_parent\"><img src=\"https://colab.research.google.com/assets/colab-badge.svg\" alt=\"Open In Colab\"/></a>"
      ]
    },
    {
      "cell_type": "markdown",
      "id": "fb9009ae",
      "metadata": {
        "id": "fb9009ae"
      },
      "source": [
        "# Q1)\n",
        "- 다음과 같은 산불 발생 데이터로 각 문제를 해결하세요.\n",
        "    - ID : 산불 발생 id\n",
        "    - MONTH : 산불 발생 월\n",
        "    - PREC : 당시 강수량(단위 : mm)\n",
        "    - AREA : 피해 면적(단위 : ha)"
      ]
    },
    {
      "cell_type": "code",
      "execution_count": null,
      "id": "75cdd7ea",
      "metadata": {
        "id": "75cdd7ea",
        "outputId": "a1e81966-b06d-4b62-83e0-170fc6d63ac8"
      },
      "outputs": [
        {
          "data": {
            "text/html": [
              "<div>\n",
              "<style scoped>\n",
              "    .dataframe tbody tr th:only-of-type {\n",
              "        vertical-align: middle;\n",
              "    }\n",
              "\n",
              "    .dataframe tbody tr th {\n",
              "        vertical-align: top;\n",
              "    }\n",
              "\n",
              "    .dataframe thead th {\n",
              "        text-align: right;\n",
              "    }\n",
              "</style>\n",
              "<table border=\"1\" class=\"dataframe\">\n",
              "  <thead>\n",
              "    <tr style=\"text-align: right;\">\n",
              "      <th></th>\n",
              "      <th>ID</th>\n",
              "      <th>MONTH</th>\n",
              "      <th>PREC</th>\n",
              "      <th>AREA</th>\n",
              "    </tr>\n",
              "  </thead>\n",
              "  <tbody>\n",
              "    <tr>\n",
              "      <th>0</th>\n",
              "      <td>1</td>\n",
              "      <td>8</td>\n",
              "      <td>5</td>\n",
              "      <td>0</td>\n",
              "    </tr>\n",
              "    <tr>\n",
              "      <th>1</th>\n",
              "      <td>2</td>\n",
              "      <td>3</td>\n",
              "      <td>0</td>\n",
              "      <td>0</td>\n",
              "    </tr>\n",
              "    <tr>\n",
              "      <th>2</th>\n",
              "      <td>3</td>\n",
              "      <td>1</td>\n",
              "      <td>3</td>\n",
              "      <td>3</td>\n",
              "    </tr>\n",
              "    <tr>\n",
              "      <th>3</th>\n",
              "      <td>4</td>\n",
              "      <td>1</td>\n",
              "      <td>0</td>\n",
              "      <td>40</td>\n",
              "    </tr>\n",
              "    <tr>\n",
              "      <th>4</th>\n",
              "      <td>5</td>\n",
              "      <td>8</td>\n",
              "      <td>2</td>\n",
              "      <td>0</td>\n",
              "    </tr>\n",
              "    <tr>\n",
              "      <th>5</th>\n",
              "      <td>6</td>\n",
              "      <td>8</td>\n",
              "      <td>0</td>\n",
              "      <td>15</td>\n",
              "    </tr>\n",
              "    <tr>\n",
              "      <th>6</th>\n",
              "      <td>7</td>\n",
              "      <td>12</td>\n",
              "      <td>0</td>\n",
              "      <td>30</td>\n",
              "    </tr>\n",
              "    <tr>\n",
              "      <th>7</th>\n",
              "      <td>8</td>\n",
              "      <td>10</td>\n",
              "      <td>3</td>\n",
              "      <td>20</td>\n",
              "    </tr>\n",
              "  </tbody>\n",
              "</table>\n",
              "</div>"
            ],
            "text/plain": [
              "   ID  MONTH  PREC  AREA\n",
              "0   1      8     5     0\n",
              "1   2      3     0     0\n",
              "2   3      1     3     3\n",
              "3   4      1     0    40\n",
              "4   5      8     2     0\n",
              "5   6      8     0    15\n",
              "6   7     12     0    30\n",
              "7   8     10     3    20"
            ]
          },
          "execution_count": 1,
          "metadata": {},
          "output_type": "execute_result"
        }
      ],
      "source": [
        "# (코드 실행) 데이터 생성\n",
        "import pandas as pd\n",
        "df = pd.DataFrame({\n",
        "    'ID' : [1, 2, 3, 4, 5, 6, 7, 8],\n",
        "    'MONTH' : [8, 3, 1, 1, 8, 8, 12, 10],\n",
        "    'PREC' : [5, 0, 3, 0, 2, 0, 0, 3],\n",
        "    'AREA' : [0, 0, 3, 40, 0, 15, 30, 20]\n",
        "})\n",
        "df"
      ]
    },
    {
      "cell_type": "markdown",
      "id": "06125636",
      "metadata": {
        "id": "06125636"
      },
      "source": [
        "<br/>\n",
        "<br/>"
      ]
    },
    {
      "cell_type": "markdown",
      "id": "eb3b1468",
      "metadata": {
        "id": "eb3b1468"
      },
      "source": [
        "#### Q1-1) 8월의 산불 발생 빈도수를 구하세요."
      ]
    },
    {
      "cell_type": "code",
      "execution_count": null,
      "id": "75a9772a",
      "metadata": {
        "id": "75a9772a",
        "outputId": "e96d045c-5685-4628-88da-7d2baddf736c"
      },
      "outputs": [
        {
          "name": "stdout",
          "output_type": "stream",
          "text": [
            "3\n"
          ]
        }
      ],
      "source": [
        "print(df['MONTH'].value_counts()[8]) # df.groupby('MONTH')['MONTH'].count()[8]"
      ]
    },
    {
      "cell_type": "markdown",
      "id": "2cf2c7aa",
      "metadata": {
        "id": "2cf2c7aa"
      },
      "source": [
        "<br/>\n",
        "<br/>"
      ]
    },
    {
      "cell_type": "markdown",
      "id": "9f823287",
      "metadata": {
        "id": "9f823287"
      },
      "source": [
        "#### Q1-2) 피해 면적의 평균이 13이라 가정하여 t 검정을 수행하고 t 통계량을 구하세요.\n",
        "- 참고 코드\n",
        "```python\n",
        "from scipy import stats\n",
        "stats.ttest_1samp(...)\n",
        "```"
      ]
    },
    {
      "cell_type": "code",
      "execution_count": null,
      "id": "80b2a5b9",
      "metadata": {
        "id": "80b2a5b9",
        "outputId": "f5319c1d-905a-4404-b1bb-f046470da37f"
      },
      "outputs": [
        {
          "name": "stdout",
          "output_type": "stream",
          "text": [
            "0.09139596247669025\n"
          ]
        }
      ],
      "source": [
        "from scipy import stats\n",
        "t_stat, p_value = stats.ttest_1samp(df['AREA'], 13)\n",
        "print(t_stat)"
      ]
    },
    {
      "cell_type": "markdown",
      "id": "7b915d15",
      "metadata": {
        "id": "7b915d15"
      },
      "source": [
        "<br/>\n",
        "<br/>"
      ]
    },
    {
      "cell_type": "markdown",
      "id": "c21b4ff9",
      "metadata": {
        "id": "c21b4ff9"
      },
      "source": [
        "#### Q1-3) 결정 트리 알고리즘을 활용하여 데이터를 학습하고 정확도를 구하세요.\n",
        "- (step1) 면적(AREA) 값이 5보다 크면 1, 그렇지 않으면 0으로 변환하여 \"CRITICAL\" 열에 추가\n",
        "- (step2) X, y 분리\n",
        "    - X : MONTH, PREC 열\n",
        "    - y : CRITICAL 열\n",
        "- (step3) DecisionTreeClassifier 알고리즘으로 X, y를 학습하고 정확도 출력\n",
        "    - 트리의 최대 깊이 : 1\n",
        "    - random_state : 1234\n",
        "    - 정확도(Accuracy) : (정답 개수) / (전체 데이터 개수) * 100\n",
        "- 참고 코드\n",
        "```python\n",
        "from sklearn.tree import DecisionTreeClassifier\n",
        "DecisionTreeClassifier(...)\n",
        "```"
      ]
    },
    {
      "cell_type": "code",
      "execution_count": null,
      "id": "91e1c493",
      "metadata": {
        "id": "91e1c493",
        "outputId": "09658aa5-9fa1-4051-8a97-928862fc2b2b"
      },
      "outputs": [
        {
          "name": "stdout",
          "output_type": "stream",
          "text": [
            "75.0\n"
          ]
        }
      ],
      "source": [
        "df['CRITICAL'] = df['AREA'].apply(lambda x : 1 if x > 5 else 0)\n",
        "X = df[['MONTH', 'PREC']]\n",
        "y = df['CRITICAL']\n",
        "\n",
        "from sklearn.tree import DecisionTreeClassifier\n",
        "clf = DecisionTreeClassifier(max_depth = 1, random_state=1234)\n",
        "clf.fit(X, y)\n",
        "print(clf.score(X, y) * 100)"
      ]
    },
    {
      "cell_type": "markdown",
      "id": "836ee27e",
      "metadata": {
        "id": "836ee27e"
      },
      "source": [
        "<br/>\n",
        "<br/>\n",
        "<br/>\n",
        "<br/>"
      ]
    },
    {
      "cell_type": "markdown",
      "id": "8115e6a7",
      "metadata": {
        "id": "8115e6a7"
      },
      "source": [
        "---"
      ]
    },
    {
      "cell_type": "markdown",
      "id": "894e731e",
      "metadata": {
        "id": "894e731e"
      },
      "source": [
        "# Q2)\n",
        "- 다음과 같은 학업 성취도 데이터로 각 문제를 해결하세요.\n",
        "    - SID : 학생 id\n",
        "    - ETHNIC : 민족\n",
        "    - LUNCH : 점심 지원 여부\n",
        "    - SCORE_MATH : 수학 점수\n",
        "    - SCORE_LANG : 언어 점수"
      ]
    },
    {
      "cell_type": "code",
      "execution_count": null,
      "id": "64c15cac",
      "metadata": {
        "id": "64c15cac",
        "outputId": "9975c2d1-bb63-4d55-8273-c42672424f9c"
      },
      "outputs": [
        {
          "data": {
            "text/html": [
              "<div>\n",
              "<style scoped>\n",
              "    .dataframe tbody tr th:only-of-type {\n",
              "        vertical-align: middle;\n",
              "    }\n",
              "\n",
              "    .dataframe tbody tr th {\n",
              "        vertical-align: top;\n",
              "    }\n",
              "\n",
              "    .dataframe thead th {\n",
              "        text-align: right;\n",
              "    }\n",
              "</style>\n",
              "<table border=\"1\" class=\"dataframe\">\n",
              "  <thead>\n",
              "    <tr style=\"text-align: right;\">\n",
              "      <th></th>\n",
              "      <th>SID</th>\n",
              "      <th>ETHNIC</th>\n",
              "      <th>LUNCH</th>\n",
              "      <th>SCORE_MATH</th>\n",
              "      <th>SCORE_LANG</th>\n",
              "    </tr>\n",
              "  </thead>\n",
              "  <tbody>\n",
              "    <tr>\n",
              "      <th>0</th>\n",
              "      <td>1</td>\n",
              "      <td>group3</td>\n",
              "      <td>1</td>\n",
              "      <td>70</td>\n",
              "      <td>30</td>\n",
              "    </tr>\n",
              "    <tr>\n",
              "      <th>1</th>\n",
              "      <td>2</td>\n",
              "      <td>group1</td>\n",
              "      <td>1</td>\n",
              "      <td>90</td>\n",
              "      <td>55</td>\n",
              "    </tr>\n",
              "    <tr>\n",
              "      <th>2</th>\n",
              "      <td>3</td>\n",
              "      <td>group3</td>\n",
              "      <td>0</td>\n",
              "      <td>55</td>\n",
              "      <td>35</td>\n",
              "    </tr>\n",
              "    <tr>\n",
              "      <th>3</th>\n",
              "      <td>4</td>\n",
              "      <td>group3</td>\n",
              "      <td>0</td>\n",
              "      <td>95</td>\n",
              "      <td>70</td>\n",
              "    </tr>\n",
              "    <tr>\n",
              "      <th>4</th>\n",
              "      <td>5</td>\n",
              "      <td>group1</td>\n",
              "      <td>1</td>\n",
              "      <td>10</td>\n",
              "      <td>10</td>\n",
              "    </tr>\n",
              "    <tr>\n",
              "      <th>5</th>\n",
              "      <td>6</td>\n",
              "      <td>group1</td>\n",
              "      <td>1</td>\n",
              "      <td>20</td>\n",
              "      <td>65</td>\n",
              "    </tr>\n",
              "    <tr>\n",
              "      <th>6</th>\n",
              "      <td>7</td>\n",
              "      <td>group3</td>\n",
              "      <td>1</td>\n",
              "      <td>90</td>\n",
              "      <td>80</td>\n",
              "    </tr>\n",
              "    <tr>\n",
              "      <th>7</th>\n",
              "      <td>8</td>\n",
              "      <td>group2</td>\n",
              "      <td>0</td>\n",
              "      <td>30</td>\n",
              "      <td>15</td>\n",
              "    </tr>\n",
              "    <tr>\n",
              "      <th>8</th>\n",
              "      <td>9</td>\n",
              "      <td>group3</td>\n",
              "      <td>1</td>\n",
              "      <td>100</td>\n",
              "      <td>85</td>\n",
              "    </tr>\n",
              "    <tr>\n",
              "      <th>9</th>\n",
              "      <td>10</td>\n",
              "      <td>group3</td>\n",
              "      <td>0</td>\n",
              "      <td>40</td>\n",
              "      <td>35</td>\n",
              "    </tr>\n",
              "    <tr>\n",
              "      <th>10</th>\n",
              "      <td>11</td>\n",
              "      <td>group3</td>\n",
              "      <td>0</td>\n",
              "      <td>30</td>\n",
              "      <td>15</td>\n",
              "    </tr>\n",
              "    <tr>\n",
              "      <th>11</th>\n",
              "      <td>12</td>\n",
              "      <td>group3</td>\n",
              "      <td>0</td>\n",
              "      <td>85</td>\n",
              "      <td>5</td>\n",
              "    </tr>\n",
              "    <tr>\n",
              "      <th>12</th>\n",
              "      <td>13</td>\n",
              "      <td>group1</td>\n",
              "      <td>0</td>\n",
              "      <td>15</td>\n",
              "      <td>25</td>\n",
              "    </tr>\n",
              "    <tr>\n",
              "      <th>13</th>\n",
              "      <td>14</td>\n",
              "      <td>group3</td>\n",
              "      <td>0</td>\n",
              "      <td>65</td>\n",
              "      <td>45</td>\n",
              "    </tr>\n",
              "    <tr>\n",
              "      <th>14</th>\n",
              "      <td>15</td>\n",
              "      <td>group2</td>\n",
              "      <td>1</td>\n",
              "      <td>85</td>\n",
              "      <td>15</td>\n",
              "    </tr>\n",
              "    <tr>\n",
              "      <th>15</th>\n",
              "      <td>16</td>\n",
              "      <td>group1</td>\n",
              "      <td>1</td>\n",
              "      <td>40</td>\n",
              "      <td>85</td>\n",
              "    </tr>\n",
              "    <tr>\n",
              "      <th>16</th>\n",
              "      <td>17</td>\n",
              "      <td>group2</td>\n",
              "      <td>1</td>\n",
              "      <td>100</td>\n",
              "      <td>55</td>\n",
              "    </tr>\n",
              "    <tr>\n",
              "      <th>17</th>\n",
              "      <td>18</td>\n",
              "      <td>group2</td>\n",
              "      <td>1</td>\n",
              "      <td>5</td>\n",
              "      <td>5</td>\n",
              "    </tr>\n",
              "    <tr>\n",
              "      <th>18</th>\n",
              "      <td>19</td>\n",
              "      <td>group2</td>\n",
              "      <td>1</td>\n",
              "      <td>95</td>\n",
              "      <td>45</td>\n",
              "    </tr>\n",
              "    <tr>\n",
              "      <th>19</th>\n",
              "      <td>20</td>\n",
              "      <td>group2</td>\n",
              "      <td>0</td>\n",
              "      <td>70</td>\n",
              "      <td>15</td>\n",
              "    </tr>\n",
              "  </tbody>\n",
              "</table>\n",
              "</div>"
            ],
            "text/plain": [
              "    SID  ETHNIC  LUNCH  SCORE_MATH  SCORE_LANG\n",
              "0     1  group3      1          70          30\n",
              "1     2  group1      1          90          55\n",
              "2     3  group3      0          55          35\n",
              "3     4  group3      0          95          70\n",
              "4     5  group1      1          10          10\n",
              "5     6  group1      1          20          65\n",
              "6     7  group3      1          90          80\n",
              "7     8  group2      0          30          15\n",
              "8     9  group3      1         100          85\n",
              "9    10  group3      0          40          35\n",
              "10   11  group3      0          30          15\n",
              "11   12  group3      0          85           5\n",
              "12   13  group1      0          15          25\n",
              "13   14  group3      0          65          45\n",
              "14   15  group2      1          85          15\n",
              "15   16  group1      1          40          85\n",
              "16   17  group2      1         100          55\n",
              "17   18  group2      1           5           5\n",
              "18   19  group2      1          95          45\n",
              "19   20  group2      0          70          15"
            ]
          },
          "execution_count": 5,
          "metadata": {},
          "output_type": "execute_result"
        }
      ],
      "source": [
        "# (코드 실행) 데이터 생성\n",
        "import pandas as pd\n",
        "import numpy as np\n",
        "np.random.seed(42)\n",
        "df = pd.DataFrame({\n",
        "    'SID' : range(1, 21),\n",
        "    'ETHNIC' : np.random.choice(['group1', 'group2', 'group3'], 20),\n",
        "    'LUNCH' : np.random.choice([0, 1], 20),\n",
        "    'SCORE_MATH' : np.random.choice(range(0, 101, 5), 20),\n",
        "    'SCORE_LANG' : np.random.choice(range(0, 101, 5), 20)\n",
        "})\n",
        "df"
      ]
    },
    {
      "cell_type": "markdown",
      "id": "543426f7",
      "metadata": {
        "id": "543426f7"
      },
      "source": [
        "<br/>\n",
        "<br/>"
      ]
    },
    {
      "cell_type": "markdown",
      "id": "f1de718d",
      "metadata": {
        "id": "f1de718d"
      },
      "source": [
        "#### Q2-1) 수학 점수와 언어 점수의 상관계수를 구하세요."
      ]
    },
    {
      "cell_type": "code",
      "execution_count": null,
      "id": "2c038579",
      "metadata": {
        "id": "2c038579",
        "outputId": "9dcc570a-8249-47e7-907b-6018402f900b"
      },
      "outputs": [
        {
          "name": "stdout",
          "output_type": "stream",
          "text": [
            "0.4287186928961863\n"
          ]
        }
      ],
      "source": [
        "print(df[['SCORE_MATH', 'SCORE_LANG']].corr().iloc[1,0])"
      ]
    },
    {
      "cell_type": "markdown",
      "id": "c534dba5",
      "metadata": {
        "id": "c534dba5"
      },
      "source": [
        "<br/>\n",
        "<br/>"
      ]
    },
    {
      "cell_type": "markdown",
      "id": "82e17ade",
      "metadata": {
        "id": "82e17ade"
      },
      "source": [
        "#### Q2-2) 민족과 점심 지원 여부의 독립성 검정을 수행하고 p-value를 구하세요.\n",
        "- 참고 코드\n",
        "```python\n",
        "pd.crosstab(열1, 열2) # 두 범주형 변수의 빈도 교차표 생성\n",
        "```\n",
        "```python\n",
        "from scipy import stats\n",
        "stats.chi2_contingency(..., correction=False)\n",
        "```"
      ]
    },
    {
      "cell_type": "code",
      "execution_count": null,
      "id": "fd12d017",
      "metadata": {
        "id": "fd12d017",
        "outputId": "63828ed6-205a-49a0-e395-2a9e142fdfb0"
      },
      "outputs": [
        {
          "data": {
            "text/html": [
              "<div>\n",
              "<style scoped>\n",
              "    .dataframe tbody tr th:only-of-type {\n",
              "        vertical-align: middle;\n",
              "    }\n",
              "\n",
              "    .dataframe tbody tr th {\n",
              "        vertical-align: top;\n",
              "    }\n",
              "\n",
              "    .dataframe thead th {\n",
              "        text-align: right;\n",
              "    }\n",
              "</style>\n",
              "<table border=\"1\" class=\"dataframe\">\n",
              "  <thead>\n",
              "    <tr style=\"text-align: right;\">\n",
              "      <th>LUNCH</th>\n",
              "      <th>0</th>\n",
              "      <th>1</th>\n",
              "    </tr>\n",
              "    <tr>\n",
              "      <th>ETHNIC</th>\n",
              "      <th></th>\n",
              "      <th></th>\n",
              "    </tr>\n",
              "  </thead>\n",
              "  <tbody>\n",
              "    <tr>\n",
              "      <th>group1</th>\n",
              "      <td>1</td>\n",
              "      <td>4</td>\n",
              "    </tr>\n",
              "    <tr>\n",
              "      <th>group2</th>\n",
              "      <td>2</td>\n",
              "      <td>4</td>\n",
              "    </tr>\n",
              "    <tr>\n",
              "      <th>group3</th>\n",
              "      <td>6</td>\n",
              "      <td>3</td>\n",
              "    </tr>\n",
              "  </tbody>\n",
              "</table>\n",
              "</div>"
            ],
            "text/plain": [
              "LUNCH   0  1\n",
              "ETHNIC      \n",
              "group1  1  4\n",
              "group2  2  4\n",
              "group3  6  3"
            ]
          },
          "metadata": {},
          "output_type": "display_data"
        },
        {
          "name": "stdout",
          "output_type": "stream",
          "text": [
            "0.19208224297687274\n"
          ]
        }
      ],
      "source": [
        "table = pd.crosstab(df['ETHNIC'], df['LUNCH'])\n",
        "display(table)\n",
        "\n",
        "from scipy import stats\n",
        "chi2_stat, p_value, _, _ = stats.chi2_contingency(table, correction=False)\n",
        "print(p_value)"
      ]
    },
    {
      "cell_type": "markdown",
      "id": "16817328",
      "metadata": {
        "id": "16817328"
      },
      "source": [
        "<br/>\n",
        "<br/>"
      ]
    },
    {
      "cell_type": "markdown",
      "id": "95402723",
      "metadata": {
        "id": "95402723"
      },
      "source": [
        "#### Q2-3) 선형 회귀 알고리즘을 활용하여 데이터를 학습하고 RMSE를 구하세요.\n",
        "- (step1) 학생 ID(SID) 값이 15 이하면 학습 데이터, 15 초과면 검증 데이터로 분리\n",
        "- (step2) X, y 분리\n",
        "    - X_train, X_test : LUNCH, SCORE_LANG 열\n",
        "    - y_train, y_test : SCORE_MATH 열\n",
        "- (step3) LinearRegression 알고리즘으로 X_train, y_train을 학습하고 RMSE 출력\n",
        "- 참고 코드\n",
        "```python\n",
        "from sklearn.linear_model import LinearRegression\n",
        "LinearRegression(...)\n",
        "```\n",
        "```python\n",
        "np.sqrt(((...)**2).mean()) # RMSE\n",
        "```"
      ]
    },
    {
      "cell_type": "markdown",
      "id": "86c533f1",
      "metadata": {
        "id": "86c533f1"
      },
      "source": [
        "![image.png](data:image/png;base64,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)"
      ]
    },
    {
      "cell_type": "code",
      "execution_count": null,
      "id": "34732c64",
      "metadata": {
        "id": "34732c64",
        "outputId": "59bc512d-c7cc-4f40-dedd-2439e9b54931"
      },
      "outputs": [
        {
          "name": "stdout",
          "output_type": "stream",
          "text": [
            "34.966075512472976\n"
          ]
        }
      ],
      "source": [
        "train = df[df['SID'] <= 15]\n",
        "test = df[df['SID'] > 15]\n",
        "\n",
        "X_train = train[['LUNCH', 'SCORE_LANG']]\n",
        "y_train = train['SCORE_MATH']\n",
        "X_test = test[['LUNCH', 'SCORE_LANG']]\n",
        "y_test = test['SCORE_MATH']\n",
        "\n",
        "from sklearn.linear_model import LinearRegression\n",
        "reg = LinearRegression()\n",
        "reg.fit(X_train, y_train)\n",
        "pred = reg.predict(X_test)\n",
        "\n",
        "result = np.sqrt(((pred - y_test)**2).mean())\n",
        "print(result)"
      ]
    },
    {
      "cell_type": "code",
      "execution_count": null,
      "id": "13e35629",
      "metadata": {
        "id": "13e35629"
      },
      "outputs": [],
      "source": []
    },
    {
      "cell_type": "code",
      "execution_count": null,
      "id": "e6996cd9",
      "metadata": {
        "id": "e6996cd9"
      },
      "outputs": [],
      "source": []
    }
  ],
  "metadata": {
    "kernelspec": {
      "display_name": "Python 3 (ipykernel)",
      "language": "python",
      "name": "python3"
    },
    "language_info": {
      "codemirror_mode": {
        "name": "ipython",
        "version": 3
      },
      "file_extension": ".py",
      "mimetype": "text/x-python",
      "name": "python",
      "nbconvert_exporter": "python",
      "pygments_lexer": "ipython3",
      "version": "3.11.4"
    },
    "colab": {
      "provenance": [],
      "include_colab_link": true
    }
  },
  "nbformat": 4,
  "nbformat_minor": 5
}